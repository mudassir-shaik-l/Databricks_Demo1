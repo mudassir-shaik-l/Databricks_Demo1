{
 "cells": [
  {
   "cell_type": "code",
   "execution_count": 4,
   "id": "bac81560",
   "metadata": {},
   "outputs": [
    {
     "name": "stdout",
     "output_type": "stream",
     "text": [
      "newly_created_branch_2\n"
     ]
    }
   ],
   "source": [
    "print(\"newly_created_branch_2\")"
   ]
  },
  {
   "cell_type": "code",
   "execution_count": 3,
   "id": "681ca43a",
   "metadata": {},
   "outputs": [
    {
     "name": "stdout",
     "output_type": "stream",
     "text": [
      "newly_created_branch_1\n"
     ]
    }
   ],
   "source": [
    "print(\"newly_created_branch_1\")"
   ]
  }
 ],
 "metadata": {
  "kernelspec": {
   "display_name": "base",
   "language": "python",
   "name": "python3"
  },
  "language_info": {
   "codemirror_mode": {
    "name": "ipython",
    "version": 3
   },
   "file_extension": ".py",
   "mimetype": "text/x-python",
   "name": "python",
   "nbconvert_exporter": "python",
   "pygments_lexer": "ipython3",
   "version": "3.12.7"
  }
 },
 "nbformat": 4,
 "nbformat_minor": 5
}
